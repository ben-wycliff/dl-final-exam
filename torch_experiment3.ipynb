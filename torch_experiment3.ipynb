{
  "nbformat": 4,
  "nbformat_minor": 0,
  "metadata": {
    "colab": {
      "provenance": [],
      "gpuType": "T4",
      "mount_file_id": "1t2zuND2NTXHrAH-6p0uBRTG9au98L3hP",
      "authorship_tag": "ABX9TyPxqPq7NLWAWr7QdcX1/mzP",
      "include_colab_link": true
    },
    "kernelspec": {
      "name": "python3",
      "display_name": "Python 3"
    },
    "language_info": {
      "name": "python"
    },
    "accelerator": "GPU"
  },
  "cells": [
    {
      "cell_type": "markdown",
      "metadata": {
        "id": "view-in-github",
        "colab_type": "text"
      },
      "source": [
        "<a href=\"https://colab.research.google.com/github/ben-wycliff/dl-final-exam/blob/main/torch_experiment3.ipynb\" target=\"_parent\"><img src=\"https://colab.research.google.com/assets/colab-badge.svg\" alt=\"Open In Colab\"/></a>"
      ]
    },
    {
      "cell_type": "code",
      "source": [
        "from google.colab import drive\n",
        "drive.mount('/content/drive')"
      ],
      "metadata": {
        "colab": {
          "base_uri": "https://localhost:8080/"
        },
        "id": "b-AxhSiBchUw",
        "outputId": "44716563-e351-4bcc-b90d-4b532103fb89"
      },
      "execution_count": 1,
      "outputs": [
        {
          "output_type": "stream",
          "name": "stdout",
          "text": [
            "Mounted at /content/drive\n"
          ]
        }
      ]
    },
    {
      "cell_type": "code",
      "execution_count": 2,
      "metadata": {
        "id": "jxlcjkEAvDko"
      },
      "outputs": [],
      "source": [
        "!unzip -q \"/content/drive/MyDrive/School/MSc Computer Science/Sem2 - (Ben Wycliff) - Year 1/Deep Learning/deep learning final exam/data.zip\""
      ]
    },
    {
      "cell_type": "markdown",
      "source": [
        "# Import Libraries"
      ],
      "metadata": {
        "id": "RsKXXS8XvgJD"
      }
    },
    {
      "cell_type": "code",
      "source": [
        "import os\n",
        "import torch\n",
        "import torchvision\n",
        "from torchvision.transforms import transforms\n",
        "\n",
        "import torch.nn as nn\n",
        "import torch.optim as optim\n",
        "from torch.utils.data import DataLoader\n",
        "from sklearn.metrics import classification_report, confusion_matrix\n",
        "from torch.utils.tensorboard import SummaryWriter\n",
        "\n",
        "import matplotlib.pyplot as plt\n",
        "import numpy as np"
      ],
      "metadata": {
        "id": "8XVvSGbNvdcF"
      },
      "execution_count": 3,
      "outputs": []
    },
    {
      "cell_type": "markdown",
      "source": [
        "# Prepare Data"
      ],
      "metadata": {
        "id": "xtjtZMWOvlMD"
      }
    },
    {
      "cell_type": "code",
      "source": [
        "# Set the path to your dataset\n",
        "train_dir = 'data/train'\n",
        "test_dir = 'data/test'\n",
        "val_dir = 'data/val'\n",
        "\n",
        "# Set the input image dimensions\n",
        "input_shape = (256, 256)\n",
        "\n",
        "# Set the number of classes\n",
        "num_classes = 6\n",
        "\n",
        "# Define transformations for data normalization and grayscale conversion\n",
        "data_transforms = transforms.Compose([\n",
        "    transforms.Grayscale(),\n",
        "    transforms.Resize(input_shape),\n",
        "    transforms.ToTensor(),\n",
        "    transforms.Normalize(mean=[0.5], std=[0.5])])\n",
        "\n",
        "# Create datasets for training, validation, and testing\n",
        "train_dataset = torchvision.datasets.ImageFolder(root=train_dir, transform=data_transforms)\n",
        "val_dataset = torchvision.datasets.ImageFolder(root=val_dir, transform=data_transforms)\n",
        "test_dataset = torchvision.datasets.ImageFolder(root=test_dir, transform=data_transforms)\n",
        "\n",
        "# Create data loaders for training, validation, and testing\n",
        "train_loader = DataLoader(train_dataset, batch_size=64, shuffle=True)\n",
        "val_loader = DataLoader(val_dataset, batch_size=63, shuffle=False)\n",
        "test_loader = DataLoader(test_dataset, batch_size=1, shuffle=False)"
      ],
      "metadata": {
        "id": "TAgzBtORvjO9"
      },
      "execution_count": 4,
      "outputs": []
    },
    {
      "cell_type": "markdown",
      "source": [
        "# Model"
      ],
      "metadata": {
        "id": "aV0h2Kr1v1Uz"
      }
    },
    {
      "cell_type": "code",
      "source": [
        "# Define the convolutional neural network model\n",
        "num_filters = 105\n",
        "learning_rate = 9e-5\n",
        "num_layers = 1\n",
        "num_neurons = 106\n",
        "final_fmap_size = input_shape[0]//2**(num_layers+1)\n",
        "\n",
        "model = nn.Sequential(\n",
        "    nn.Conv2d(1, num_filters, kernel_size=3, stride=1, padding=1),\n",
        "    nn.ReLU(),\n",
        "    nn.MaxPool2d(kernel_size=2),\n",
        "    nn.Conv2d(num_filters, num_filters, kernel_size=3, stride=1, padding=1),\n",
        "    nn.ReLU(),\n",
        "    nn.MaxPool2d(kernel_size=2),\n",
        "    nn.Flatten(),\n",
        "    nn.Linear((final_fmap_size**2)*num_filters, num_neurons),\n",
        "    nn.ReLU(),\n",
        "    nn.Linear(num_neurons, num_classes),\n",
        "    nn.Softmax(dim=1)\n",
        ")"
      ],
      "metadata": {
        "id": "YcmSV7h_v098"
      },
      "execution_count": 6,
      "outputs": []
    },
    {
      "cell_type": "code",
      "source": [
        "# Define the loss function and optimizer\n",
        "criterion = nn.CrossEntropyLoss()\n",
        "optimizer = optim.Adam(model.parameters(), lr=learning_rate)\n",
        "\n",
        "# Move the model to the appropriate device (GPU if available)\n",
        "device = torch.device(\"cuda\" if torch.cuda.is_available() else \"cpu\")\n",
        "model.to(device)\n",
        "\n",
        "# Set up TensorBoard writer\n",
        "log_dir = 'logs'\n",
        "os.makedirs(log_dir, exist_ok=True)\n",
        "writer = SummaryWriter(log_dir=log_dir)"
      ],
      "metadata": {
        "id": "fHhIFGOuvz9c"
      },
      "execution_count": 7,
      "outputs": []
    },
    {
      "cell_type": "markdown",
      "source": [
        "# Train"
      ],
      "metadata": {
        "id": "-TSuLOuOwD-6"
      }
    },
    {
      "cell_type": "code",
      "source": [
        "train_loss_history = []\n",
        "train_acc_history = []\n",
        "valid_loss_history = []\n",
        "valid_acc_history = []\n",
        "\n",
        "# device = torch.device('cuda' if torch.cuda.is_available() else 'cpu')\n",
        "# model = model.to(device)\n",
        "\n",
        "best_valid_acc = 0.0\n",
        "num_epochs = 40\n",
        "\n",
        "for epoch in range(num_epochs):\n",
        "    model.train()\n",
        "    train_correct = 0\n",
        "    train_total = 0\n",
        "    train_running_loss = 0.0\n",
        "\n",
        "    for images, labels in train_loader:\n",
        "        images = images.to(device)\n",
        "        labels = labels.to(device)\n",
        "\n",
        "        optimizer.zero_grad()\n",
        "        outputs = model(images)\n",
        "        loss = criterion(outputs, labels)\n",
        "        loss.backward()\n",
        "        optimizer.step()\n",
        "\n",
        "        # Update training loss and accuracy values\n",
        "        train_running_loss += loss.item()\n",
        "        _, predicted = torch.max(outputs.data, 1)\n",
        "        train_total += labels.size(0)\n",
        "        train_correct += (predicted == labels).sum().item()\n",
        "\n",
        "    # Calculate training loss and accuracy for the epoch\n",
        "    train_epoch_loss = train_running_loss / len(train_loader)\n",
        "    train_epoch_acc = train_correct / train_total\n",
        "\n",
        "    # Append training loss and accuracy values to the history lists\n",
        "    train_loss_history.append(train_epoch_loss)\n",
        "    train_acc_history.append(train_epoch_acc)\n",
        "\n",
        "    # Validation step\n",
        "    model.eval()\n",
        "    valid_correct = 0\n",
        "    valid_total = 0\n",
        "    valid_running_loss = 0.0\n",
        "\n",
        "    with torch.no_grad():\n",
        "        for images, labels in val_loader:\n",
        "            images = images.to(device)\n",
        "            labels = labels.to(device)\n",
        "\n",
        "            outputs = model(images)\n",
        "            loss = criterion(outputs, labels)\n",
        "\n",
        "            # Update validation loss and accuracy values\n",
        "            valid_running_loss += loss.item()\n",
        "            _, predicted = torch.max(outputs.data, 1)\n",
        "            valid_total += labels.size(0)\n",
        "            valid_correct += (predicted == labels).sum().item()\n",
        "\n",
        "    # Calculate validation loss and accuracy for the epoch\n",
        "    valid_epoch_loss = valid_running_loss / len(val_loader)\n",
        "    valid_epoch_acc = valid_correct / valid_total\n",
        "\n",
        "    # Append validation loss and accuracy values to the history lists\n",
        "    valid_loss_history.append(valid_epoch_loss)\n",
        "    valid_acc_history.append(valid_epoch_acc)\n",
        "\n",
        "    # Print the loss and accuracy for each epoch\n",
        "    print(f'Epoch [{epoch+1}/{num_epochs}], '\n",
        "          f'Train Loss: {train_epoch_loss:.4f}, Train Acc: {train_epoch_acc:.4f}, '\n",
        "          f'Valid Loss: {valid_epoch_loss:.4f}, Valid Acc: {valid_epoch_acc:.4f}')\n",
        "\n",
        "    # Check if the current model's validation accuracy is better than the previous best accuracy\n",
        "    if valid_epoch_acc > best_valid_acc:\n",
        "        best_valid_acc = valid_epoch_acc\n",
        "        best_model_weights = model.state_dict()\n",
        "\n",
        "print('Training finished.')"
      ],
      "metadata": {
        "colab": {
          "base_uri": "https://localhost:8080/"
        },
        "id": "34SGBnkhv9tE",
        "outputId": "19394426-e3fb-4551-d9e7-c23d23c14ce5"
      },
      "execution_count": 8,
      "outputs": [
        {
          "output_type": "stream",
          "name": "stdout",
          "text": [
            "Epoch [1/40], Train Loss: 1.5078, Train Acc: 0.5490, Valid Loss: 1.3288, Valid Acc: 0.7167\n",
            "Epoch [2/40], Train Loss: 1.2405, Train Acc: 0.8195, Valid Loss: 1.2309, Valid Acc: 0.8111\n",
            "Epoch [3/40], Train Loss: 1.1799, Train Acc: 0.8732, Valid Loss: 1.1928, Valid Acc: 0.8556\n",
            "Epoch [4/40], Train Loss: 1.1435, Train Acc: 0.9087, Valid Loss: 1.1658, Valid Acc: 0.8861\n",
            "Epoch [5/40], Train Loss: 1.1263, Train Acc: 0.9242, Valid Loss: 1.1829, Valid Acc: 0.8583\n",
            "Epoch [6/40], Train Loss: 1.1099, Train Acc: 0.9391, Valid Loss: 1.1703, Valid Acc: 0.8750\n",
            "Epoch [7/40], Train Loss: 1.0976, Train Acc: 0.9504, Valid Loss: 1.1573, Valid Acc: 0.8917\n",
            "Epoch [8/40], Train Loss: 1.0922, Train Acc: 0.9571, Valid Loss: 1.1403, Valid Acc: 0.9056\n",
            "Epoch [9/40], Train Loss: 1.0807, Train Acc: 0.9660, Valid Loss: 1.1427, Valid Acc: 0.9056\n",
            "Epoch [10/40], Train Loss: 1.0755, Train Acc: 0.9705, Valid Loss: 1.1361, Valid Acc: 0.9056\n",
            "Epoch [11/40], Train Loss: 1.0708, Train Acc: 0.9746, Valid Loss: 1.1252, Valid Acc: 0.9222\n",
            "Epoch [12/40], Train Loss: 1.0699, Train Acc: 0.9770, Valid Loss: 1.1316, Valid Acc: 0.9083\n",
            "Epoch [13/40], Train Loss: 1.0666, Train Acc: 0.9791, Valid Loss: 1.1395, Valid Acc: 0.9111\n",
            "Epoch [14/40], Train Loss: 1.0651, Train Acc: 0.9813, Valid Loss: 1.1297, Valid Acc: 0.9194\n",
            "Epoch [15/40], Train Loss: 1.0625, Train Acc: 0.9829, Valid Loss: 1.1327, Valid Acc: 0.9167\n",
            "Epoch [16/40], Train Loss: 1.0600, Train Acc: 0.9855, Valid Loss: 1.1352, Valid Acc: 0.9083\n",
            "Epoch [17/40], Train Loss: 1.0574, Train Acc: 0.9878, Valid Loss: 1.1346, Valid Acc: 0.9139\n",
            "Epoch [18/40], Train Loss: 1.0547, Train Acc: 0.9898, Valid Loss: 1.1283, Valid Acc: 0.9194\n",
            "Epoch [19/40], Train Loss: 1.0533, Train Acc: 0.9909, Valid Loss: 1.1244, Valid Acc: 0.9194\n",
            "Epoch [20/40], Train Loss: 1.0525, Train Acc: 0.9914, Valid Loss: 1.1376, Valid Acc: 0.9000\n",
            "Epoch [21/40], Train Loss: 1.0540, Train Acc: 0.9906, Valid Loss: 1.1203, Valid Acc: 0.9194\n",
            "Epoch [22/40], Train Loss: 1.0538, Train Acc: 0.9908, Valid Loss: 1.1343, Valid Acc: 0.9056\n",
            "Epoch [23/40], Train Loss: 1.0536, Train Acc: 0.9911, Valid Loss: 1.1388, Valid Acc: 0.9000\n",
            "Epoch [24/40], Train Loss: 1.0546, Train Acc: 0.9901, Valid Loss: 1.1439, Valid Acc: 0.8972\n",
            "Epoch [25/40], Train Loss: 1.0533, Train Acc: 0.9914, Valid Loss: 1.1279, Valid Acc: 0.9167\n",
            "Epoch [26/40], Train Loss: 1.0515, Train Acc: 0.9927, Valid Loss: 1.1294, Valid Acc: 0.9083\n",
            "Epoch [27/40], Train Loss: 1.0506, Train Acc: 0.9932, Valid Loss: 1.1254, Valid Acc: 0.9167\n",
            "Epoch [28/40], Train Loss: 1.0505, Train Acc: 0.9932, Valid Loss: 1.1251, Valid Acc: 0.9167\n",
            "Epoch [29/40], Train Loss: 1.0502, Train Acc: 0.9935, Valid Loss: 1.1214, Valid Acc: 0.9222\n",
            "Epoch [30/40], Train Loss: 1.0500, Train Acc: 0.9935, Valid Loss: 1.1273, Valid Acc: 0.9139\n",
            "Epoch [31/40], Train Loss: 1.0502, Train Acc: 0.9935, Valid Loss: 1.1250, Valid Acc: 0.9222\n",
            "Epoch [32/40], Train Loss: 1.0499, Train Acc: 0.9937, Valid Loss: 1.1221, Valid Acc: 0.9222\n",
            "Epoch [33/40], Train Loss: 1.0508, Train Acc: 0.9929, Valid Loss: 1.1403, Valid Acc: 0.9000\n",
            "Epoch [34/40], Train Loss: 1.0521, Train Acc: 0.9922, Valid Loss: 1.1868, Valid Acc: 0.8556\n",
            "Epoch [35/40], Train Loss: 1.0597, Train Acc: 0.9857, Valid Loss: 1.1445, Valid Acc: 0.8917\n",
            "Epoch [36/40], Train Loss: 1.0536, Train Acc: 0.9915, Valid Loss: 1.1339, Valid Acc: 0.9083\n",
            "Epoch [37/40], Train Loss: 1.0550, Train Acc: 0.9903, Valid Loss: 1.1209, Valid Acc: 0.9222\n",
            "Epoch [38/40], Train Loss: 1.0506, Train Acc: 0.9937, Valid Loss: 1.1197, Valid Acc: 0.9222\n",
            "Epoch [39/40], Train Loss: 1.0492, Train Acc: 0.9947, Valid Loss: 1.1282, Valid Acc: 0.9222\n",
            "Epoch [40/40], Train Loss: 1.0487, Train Acc: 0.9950, Valid Loss: 1.1232, Valid Acc: 0.9139\n",
            "Training finished.\n"
          ]
        }
      ]
    },
    {
      "cell_type": "code",
      "source": [
        "# Evaluate the model on the validation set\n",
        "model.eval()\n",
        "test_predictions = []\n",
        "test_labels = []\n",
        "with torch.no_grad():\n",
        "    for images, labels in test_loader:\n",
        "        images = images.to(device)\n",
        "        labels = labels.to(device)\n",
        "\n",
        "        outputs = model(images)\n",
        "        _, predicted = torch.max(outputs.data, 1)\n",
        "\n",
        "        test_predictions.extend(predicted.cpu().numpy())\n",
        "        test_labels.extend(labels.cpu().numpy())\n",
        "\n",
        "# Convert prediction labels and true labels to numpy arrays\n",
        "test_predictions = np.array(test_predictions)\n",
        "test_labels = np.array(test_labels)"
      ],
      "metadata": {
        "id": "jejf5WQuwGF0"
      },
      "execution_count": 10,
      "outputs": []
    },
    {
      "cell_type": "code",
      "source": [
        "# Print classification report and confusion matrix\n",
        "print(\"Test Classification Report:\")\n",
        "print(classification_report(test_labels, test_predictions))\n",
        "print(\"Confusion Matrix:\")\n",
        "print(confusion_matrix(test_labels, test_predictions))\n",
        "\n",
        "# Plot learning curves\n",
        "plt.plot(train_loss_history)\n",
        "plt.plot(valid_loss_history)\n",
        "plt.title('Model Accuracy')\n",
        "plt.xlabel('Epoch')\n",
        "plt.ylabel('Accuracy')\n",
        "plt.legend(['train', 'val'], loc='upper left')\n",
        "plt.show()"
      ],
      "metadata": {
        "colab": {
          "base_uri": "https://localhost:8080/",
          "height": 837
        },
        "id": "xzNCLaSH0BOe",
        "outputId": "24d8b00f-a650-4997-ce29-df8be4b06ed6"
      },
      "execution_count": 12,
      "outputs": [
        {
          "output_type": "stream",
          "name": "stdout",
          "text": [
            "Test Classification Report:\n",
            "              precision    recall  f1-score   support\n",
            "\n",
            "           0       0.83      0.94      0.88       100\n",
            "           1       0.83      0.91      0.87       100\n",
            "           2       0.87      0.89      0.88       100\n",
            "           3       0.95      0.95      0.95       100\n",
            "           4       0.98      0.79      0.87       100\n",
            "           5       1.00      0.95      0.97       100\n",
            "\n",
            "    accuracy                           0.91       600\n",
            "   macro avg       0.91      0.91      0.91       600\n",
            "weighted avg       0.91      0.91      0.91       600\n",
            "\n",
            "Confusion Matrix:\n",
            "[[94  4  2  0  0  0]\n",
            " [ 2 91  1  5  1  0]\n",
            " [ 5  5 89  0  1  0]\n",
            " [ 2  2  1 95  0  0]\n",
            " [ 8  4  9  0 79  0]\n",
            " [ 2  3  0  0  0 95]]\n"
          ]
        },
        {
          "output_type": "display_data",
          "data": {
            "text/plain": [
              "<Figure size 640x480 with 1 Axes>"
            ],
            "image/png": "[encoded data removed]"
          },
          "metadata": {}
        }
      ]
    },
    {
      "cell_type": "code",
      "source": [
        "# Plot learning curves\n",
        "plt.plot(train_acc_history)\n",
        "plt.plot(valid_acc_history)\n",
        "plt.title('Model Accuracy')\n",
        "plt.xlabel('Epoch')\n",
        "plt.ylabel('Accuracy')\n",
        "plt.legend(['train', 'val'], loc='upper left')\n",
        "plt.show()"
      ],
      "metadata": {
        "id": "TZxRkQ9c0LsT",
        "colab": {
          "base_uri": "https://localhost:8080/",
          "height": 472
        },
        "outputId": "f2fc71c5-c5ac-4bdd-c85d-5dcabdf618b6"
      },
      "execution_count": 13,
      "outputs": [
        {
          "output_type": "display_data",
          "data": {
            "text/plain": [
              "<Figure size 640x480 with 1 Axes>"
            ],
            "image/png": "[encoded data removed]"
          },
          "metadata": {}
        }
      ]
    },
    {
      "cell_type": "code",
      "source": [],
      "metadata": {
        "id": "-gFZ9GtWAiTq"
      },
      "execution_count": null,
      "outputs": []
    }
  ]
}