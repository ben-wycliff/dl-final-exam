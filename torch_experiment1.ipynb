{
  "nbformat": 4,
  "nbformat_minor": 0,
  "metadata": {
    "colab": {
      "provenance": [],
      "gpuType": "T4",
      "mount_file_id": "1t2zuND2NTXHrAH-6p0uBRTG9au98L3hP",
      "authorship_tag": "ABX9TyOQM/4URxpHMDFHhBiUUpAE",
      "include_colab_link": true
    },
    "kernelspec": {
      "name": "python3",
      "display_name": "Python 3"
    },
    "language_info": {
      "name": "python"
    },
    "accelerator": "GPU"
  },
  "cells": [
    {
      "cell_type": "markdown",
      "metadata": {
        "id": "view-in-github",
        "colab_type": "text"
      },
      "source": [
        "<a href=\"https://colab.research.google.com/github/ben-wycliff/dl-final-exam/blob/main/torch_experiment1.ipynb\" target=\"_parent\"><img src=\"https://colab.research.google.com/assets/colab-badge.svg\" alt=\"Open In Colab\"/></a>"
      ]
    },
    {
      "cell_type": "code",
      "source": [
        "from google.colab import drive\n",
        "drive.mount('/content/drive')"
      ],
      "metadata": {
        "colab": {
          "base_uri": "https://localhost:8080/"
        },
        "id": "b-AxhSiBchUw",
        "outputId": "f0f57cd1-7671-4c3d-d637-f3130c6c4124"
      },
      "execution_count": null,
      "outputs": [
        {
          "output_type": "stream",
          "name": "stdout",
          "text": [
            "Drive already mounted at /content/drive; to attempt to forcibly remount, call drive.mount(\"/content/drive\", force_remount=True).\n"
          ]
        }
      ]
    },
    {
      "cell_type": "code",
      "execution_count": null,
      "metadata": {
        "id": "jxlcjkEAvDko"
      },
      "outputs": [],
      "source": [
        "!unzip -q \"/content/drive/MyDrive/School/MSc Computer Science/Sem2 - (Ben Wycliff) - Year 1/Deep Learning/deep learning final exam/data.zip\""
      ]
    },
    {
      "cell_type": "markdown",
      "source": [
        "# Import Libraries"
      ],
      "metadata": {
        "id": "RsKXXS8XvgJD"
      }
    },
    {
      "cell_type": "code",
      "source": [
        "import os\n",
        "import torch\n",
        "import torchvision\n",
        "from torchvision.transforms import transforms\n",
        "\n",
        "import torch.nn as nn\n",
        "import torch.optim as optim\n",
        "from torch.utils.data import DataLoader\n",
        "from sklearn.metrics import classification_report, confusion_matrix\n",
        "from torch.utils.tensorboard import SummaryWriter\n",
        "\n",
        "import matplotlib.pyplot as plt\n",
        "import numpy as np"
      ],
      "metadata": {
        "id": "8XVvSGbNvdcF"
      },
      "execution_count": null,
      "outputs": []
    },
    {
      "cell_type": "markdown",
      "source": [
        "# Prepare Data"
      ],
      "metadata": {
        "id": "xtjtZMWOvlMD"
      }
    },
    {
      "cell_type": "code",
      "source": [
        "# Set the path to your dataset\n",
        "train_dir = 'data/train'\n",
        "test_dir = 'data/test'\n",
        "val_dir = 'data/val'\n",
        "\n",
        "# Set the input image dimensions\n",
        "input_shape = (256, 256)\n",
        "\n",
        "# Set the number of classes\n",
        "num_classes = 6\n",
        "\n",
        "# Define transformations for data normalization and grayscale conversion\n",
        "data_transforms = transforms.Compose([\n",
        "    transforms.Grayscale(),\n",
        "    transforms.Resize(input_shape),\n",
        "    transforms.ToTensor(),\n",
        "    transforms.Normalize(mean=[0.5], std=[0.5])])\n",
        "\n",
        "# Create datasets for training, validation, and testing\n",
        "train_dataset = torchvision.datasets.ImageFolder(root=train_dir, transform=data_transforms)\n",
        "val_dataset = torchvision.datasets.ImageFolder(root=val_dir, transform=data_transforms)\n",
        "test_dataset = torchvision.datasets.ImageFolder(root=test_dir, transform=data_transforms)\n",
        "\n",
        "# Create data loaders for training, validation, and testing\n",
        "train_loader = DataLoader(train_dataset, batch_size=64, shuffle=True)\n",
        "val_loader = DataLoader(val_dataset, batch_size=63, shuffle=False)\n",
        "test_loader = DataLoader(test_dataset, batch_size=1, shuffle=False)"
      ],
      "metadata": {
        "id": "TAgzBtORvjO9"
      },
      "execution_count": null,
      "outputs": []
    },
    {
      "cell_type": "markdown",
      "source": [
        "# Model"
      ],
      "metadata": {
        "id": "aV0h2Kr1v1Uz"
      }
    },
    {
      "cell_type": "code",
      "source": [
        "# Define the convolutional neural network model\n",
        "model = nn.Sequential(\n",
        "    nn.Conv2d(1, 32, kernel_size=3, stride=1, padding=1),\n",
        "    nn.ReLU(),\n",
        "    nn.MaxPool2d(kernel_size=2),\n",
        "    nn.Conv2d(32, 64, kernel_size=3, stride=1, padding=1),\n",
        "    nn.ReLU(),\n",
        "    nn.MaxPool2d(kernel_size=2),\n",
        "    nn.Conv2d(64, 128, kernel_size=3, stride=1, padding=1),\n",
        "    nn.ReLU(),\n",
        "    nn.MaxPool2d(kernel_size=2),\n",
        "    nn.Flatten(),\n",
        "    nn.Linear(32*32*128, 32),\n",
        "    nn.ReLU(),\n",
        "    nn.Linear(32, num_classes),\n",
        "    nn.Softmax(dim=1)\n",
        ")"
      ],
      "metadata": {
        "id": "YcmSV7h_v098"
      },
      "execution_count": null,
      "outputs": []
    },
    {
      "cell_type": "code",
      "source": [
        "# Define the loss function and optimizer\n",
        "criterion = nn.CrossEntropyLoss()\n",
        "optimizer = optim.Adam(model.parameters(), lr=0.001)\n",
        "\n",
        "# Move the model to the appropriate device (GPU if available)\n",
        "device = torch.device(\"cuda\" if torch.cuda.is_available() else \"cpu\")\n",
        "model.to(device)\n",
        "\n",
        "# Set up TensorBoard writer\n",
        "log_dir = 'logs'\n",
        "os.makedirs(log_dir, exist_ok=True)\n",
        "writer = SummaryWriter(log_dir=log_dir)"
      ],
      "metadata": {
        "id": "fHhIFGOuvz9c"
      },
      "execution_count": null,
      "outputs": []
    },
    {
      "cell_type": "markdown",
      "source": [
        "# Train"
      ],
      "metadata": {
        "id": "-TSuLOuOwD-6"
      }
    },
    {
      "cell_type": "code",
      "source": [
        "train_loss_history = []\n",
        "train_acc_history = []\n",
        "valid_loss_history = []\n",
        "valid_acc_history = []\n",
        "\n",
        "# device = torch.device('cuda' if torch.cuda.is_available() else 'cpu')\n",
        "# model = model.to(device)\n",
        "\n",
        "best_valid_acc = 0.0\n",
        "num_epochs = 40\n",
        "\n",
        "for epoch in range(num_epochs):\n",
        "    model.train()\n",
        "    train_correct = 0\n",
        "    train_total = 0\n",
        "    train_running_loss = 0.0\n",
        "\n",
        "    for images, labels in train_loader:\n",
        "        images = images.to(device)\n",
        "        labels = labels.to(device)\n",
        "\n",
        "        optimizer.zero_grad()\n",
        "        outputs = model(images)\n",
        "        loss = criterion(outputs, labels)\n",
        "        loss.backward()\n",
        "        optimizer.step()\n",
        "\n",
        "        # Update training loss and accuracy values\n",
        "        train_running_loss += loss.item()\n",
        "        _, predicted = torch.max(outputs.data, 1)\n",
        "        train_total += labels.size(0)\n",
        "        train_correct += (predicted == labels).sum().item()\n",
        "\n",
        "    # Calculate training loss and accuracy for the epoch\n",
        "    train_epoch_loss = train_running_loss / len(train_loader)\n",
        "    train_epoch_acc = train_correct / train_total\n",
        "\n",
        "    # Append training loss and accuracy values to the history lists\n",
        "    train_loss_history.append(train_epoch_loss)\n",
        "    train_acc_history.append(train_epoch_acc)\n",
        "\n",
        "    # Validation step\n",
        "    model.eval()\n",
        "    valid_correct = 0\n",
        "    valid_total = 0\n",
        "    valid_running_loss = 0.0\n",
        "\n",
        "    with torch.no_grad():\n",
        "        for images, labels in val_loader:\n",
        "            images = images.to(device)\n",
        "            labels = labels.to(device)\n",
        "\n",
        "            outputs = model(images)\n",
        "            loss = criterion(outputs, labels)\n",
        "\n",
        "            # Update validation loss and accuracy values\n",
        "            valid_running_loss += loss.item()\n",
        "            _, predicted = torch.max(outputs.data, 1)\n",
        "            valid_total += labels.size(0)\n",
        "            valid_correct += (predicted == labels).sum().item()\n",
        "\n",
        "    # Calculate validation loss and accuracy for the epoch\n",
        "    valid_epoch_loss = valid_running_loss / len(val_loader)\n",
        "    valid_epoch_acc = valid_correct / valid_total\n",
        "\n",
        "    # Append validation loss and accuracy values to the history lists\n",
        "    valid_loss_history.append(valid_epoch_loss)\n",
        "    valid_acc_history.append(valid_epoch_acc)\n",
        "\n",
        "    # Print the loss and accuracy for each epoch\n",
        "    print(f'Epoch [{epoch+1}/{num_epochs}], '\n",
        "          f'Train Loss: {train_epoch_loss:.4f}, Train Acc: {train_epoch_acc:.4f}, '\n",
        "          f'Valid Loss: {valid_epoch_loss:.4f}, Valid Acc: {valid_epoch_acc:.4f}')\n",
        "\n",
        "    # Check if the current model's validation accuracy is better than the previous best accuracy\n",
        "    if valid_epoch_acc > best_valid_acc:\n",
        "        best_valid_acc = valid_epoch_acc\n",
        "        best_model_weights = model.state_dict()\n",
        "\n",
        "print('Training finished.')"
      ],
      "metadata": {
        "colab": {
          "base_uri": "https://localhost:8080/"
        },
        "id": "34SGBnkhv9tE",
        "outputId": "db86a77b-c9aa-4b46-9b27-b96bd4d0eca9"
      },
      "execution_count": null,
      "outputs": [
        {
          "output_type": "stream",
          "name": "stdout",
          "text": [
            "Epoch [1/40], Train Loss: 1.5734, Train Acc: 0.4630, Valid Loss: 1.4888, Valid Acc: 0.5417\n",
            "Epoch [2/40], Train Loss: 1.4517, Train Acc: 0.5913, Valid Loss: 1.3953, Valid Acc: 0.6389\n",
            "Epoch [3/40], Train Loss: 1.3720, Train Acc: 0.6704, Valid Loss: 1.3332, Valid Acc: 0.7083\n",
            "Epoch [4/40], Train Loss: 1.3063, Train Acc: 0.7385, Valid Loss: 1.3098, Valid Acc: 0.7250\n",
            "Epoch [5/40], Train Loss: 1.2648, Train Acc: 0.7796, Valid Loss: 1.2760, Valid Acc: 0.7639\n",
            "Epoch [6/40], Train Loss: 1.2119, Train Acc: 0.8320, Valid Loss: 1.2474, Valid Acc: 0.7889\n",
            "Epoch [7/40], Train Loss: 1.1847, Train Acc: 0.8597, Valid Loss: 1.2255, Valid Acc: 0.8139\n",
            "Epoch [8/40], Train Loss: 1.1682, Train Acc: 0.8763, Valid Loss: 1.2352, Valid Acc: 0.8056\n",
            "Epoch [9/40], Train Loss: 1.1492, Train Acc: 0.8947, Valid Loss: 1.2088, Valid Acc: 0.8306\n",
            "Epoch [10/40], Train Loss: 1.1397, Train Acc: 0.9041, Valid Loss: 1.2010, Valid Acc: 0.8389\n",
            "Epoch [11/40], Train Loss: 1.1266, Train Acc: 0.9170, Valid Loss: 1.1943, Valid Acc: 0.8500\n",
            "Epoch [12/40], Train Loss: 1.1250, Train Acc: 0.9183, Valid Loss: 1.1974, Valid Acc: 0.8444\n",
            "Epoch [13/40], Train Loss: 1.1206, Train Acc: 0.9232, Valid Loss: 1.1889, Valid Acc: 0.8528\n",
            "Epoch [14/40], Train Loss: 1.1036, Train Acc: 0.9396, Valid Loss: 1.2131, Valid Acc: 0.8306\n",
            "Epoch [15/40], Train Loss: 1.1091, Train Acc: 0.9350, Valid Loss: 1.1699, Valid Acc: 0.8694\n",
            "Epoch [16/40], Train Loss: 1.0990, Train Acc: 0.9450, Valid Loss: 1.1576, Valid Acc: 0.8806\n",
            "Epoch [17/40], Train Loss: 1.0923, Train Acc: 0.9512, Valid Loss: 1.1460, Valid Acc: 0.8944\n",
            "Epoch [18/40], Train Loss: 1.0886, Train Acc: 0.9543, Valid Loss: 1.1526, Valid Acc: 0.8889\n",
            "Epoch [19/40], Train Loss: 1.0860, Train Acc: 0.9581, Valid Loss: 1.1531, Valid Acc: 0.8861\n",
            "Epoch [20/40], Train Loss: 1.0828, Train Acc: 0.9611, Valid Loss: 1.1431, Valid Acc: 0.9000\n",
            "Epoch [21/40], Train Loss: 1.0778, Train Acc: 0.9661, Valid Loss: 1.1474, Valid Acc: 0.8917\n",
            "Epoch [22/40], Train Loss: 1.0788, Train Acc: 0.9646, Valid Loss: 1.1455, Valid Acc: 0.9000\n",
            "Epoch [23/40], Train Loss: 1.0747, Train Acc: 0.9693, Valid Loss: 1.1378, Valid Acc: 0.9028\n",
            "Epoch [24/40], Train Loss: 1.0734, Train Acc: 0.9706, Valid Loss: 1.1378, Valid Acc: 0.9056\n",
            "Epoch [25/40], Train Loss: 1.0765, Train Acc: 0.9679, Valid Loss: 1.1473, Valid Acc: 0.8917\n",
            "Epoch [26/40], Train Loss: 1.0761, Train Acc: 0.9676, Valid Loss: 1.1351, Valid Acc: 0.9083\n",
            "Epoch [27/40], Train Loss: 1.0705, Train Acc: 0.9735, Valid Loss: 1.1272, Valid Acc: 0.9139\n",
            "Epoch [28/40], Train Loss: 1.0725, Train Acc: 0.9712, Valid Loss: 1.1290, Valid Acc: 0.9111\n",
            "Epoch [29/40], Train Loss: 1.0708, Train Acc: 0.9731, Valid Loss: 1.1796, Valid Acc: 0.8639\n",
            "Epoch [30/40], Train Loss: 1.0724, Train Acc: 0.9713, Valid Loss: 1.1334, Valid Acc: 0.9111\n",
            "Epoch [31/40], Train Loss: 1.0727, Train Acc: 0.9712, Valid Loss: 1.1490, Valid Acc: 0.8944\n",
            "Epoch [32/40], Train Loss: 1.0678, Train Acc: 0.9754, Valid Loss: 1.1377, Valid Acc: 0.9056\n",
            "Epoch [33/40], Train Loss: 1.0683, Train Acc: 0.9754, Valid Loss: 1.1620, Valid Acc: 0.8806\n",
            "Epoch [34/40], Train Loss: 1.0670, Train Acc: 0.9765, Valid Loss: 1.1586, Valid Acc: 0.8861\n",
            "Epoch [35/40], Train Loss: 1.0637, Train Acc: 0.9803, Valid Loss: 1.1593, Valid Acc: 0.8833\n",
            "Epoch [36/40], Train Loss: 1.0607, Train Acc: 0.9829, Valid Loss: 1.1465, Valid Acc: 0.8944\n",
            "Epoch [37/40], Train Loss: 1.0649, Train Acc: 0.9785, Valid Loss: 1.1444, Valid Acc: 0.8944\n",
            "Epoch [38/40], Train Loss: 1.0615, Train Acc: 0.9826, Valid Loss: 1.1279, Valid Acc: 0.9139\n",
            "Epoch [39/40], Train Loss: 1.0595, Train Acc: 0.9842, Valid Loss: 1.1397, Valid Acc: 0.9028\n",
            "Epoch [40/40], Train Loss: 1.0598, Train Acc: 0.9839, Valid Loss: 1.1297, Valid Acc: 0.9139\n",
            "Training finished.\n"
          ]
        }
      ]
    },
    {
      "cell_type": "code",
      "source": [
        "# Evaluate the model on the validation set\n",
        "model.eval()\n",
        "val_predictions = []\n",
        "val_labels = []\n",
        "with torch.no_grad():\n",
        "    for images, labels in val_loader:\n",
        "        images = images.to(device)\n",
        "        labels = labels.to(device)\n",
        "\n",
        "        outputs = model(images)\n",
        "        _, predicted = torch.max(outputs.data, 1)\n",
        "\n",
        "        val_predictions.extend(predicted.cpu().numpy())\n",
        "        val_labels.extend(labels.cpu().numpy())\n",
        "\n",
        "# Convert prediction labels and true labels to numpy arrays\n",
        "val_predictions = np.array(val_predictions)\n",
        "val_labels = np.array(val_labels)"
      ],
      "metadata": {
        "id": "jejf5WQuwGF0"
      },
      "execution_count": null,
      "outputs": []
    },
    {
      "cell_type": "code",
      "source": [
        "# Print classification report and confusion matrix\n",
        "print(\"Validation Classification Report:\")\n",
        "print(classification_report(val_labels, val_predictions))\n",
        "print(\"Confusion Matrix:\")\n",
        "print(confusion_matrix(val_labels, val_predictions))\n",
        "\n",
        "# Plot learning curves\n",
        "plt.plot(train_loss_history)\n",
        "plt.plot(valid_loss_history)\n",
        "plt.title('Model Accuracy')\n",
        "plt.xlabel('Epoch')\n",
        "plt.ylabel('Accuracy')\n",
        "plt.legend(['train', 'val'], loc='upper left')\n",
        "plt.show()"
      ],
      "metadata": {
        "colab": {
          "base_uri": "https://localhost:8080/",
          "height": 837
        },
        "id": "xzNCLaSH0BOe",
        "outputId": "6d0c6337-786e-4da0-8d6b-03d5a15c4f94"
      },
      "execution_count": null,
      "outputs": [
        {
          "output_type": "stream",
          "name": "stdout",
          "text": [
            "Validation Classification Report:\n",
            "              precision    recall  f1-score   support\n",
            "\n",
            "           0       0.89      0.85      0.87        60\n",
            "           1       0.93      0.87      0.90        60\n",
            "           2       0.82      1.00      0.90        60\n",
            "           3       0.92      0.95      0.93        60\n",
            "           4       1.00      0.90      0.95        60\n",
            "           5       0.95      0.92      0.93        60\n",
            "\n",
            "    accuracy                           0.91       360\n",
            "   macro avg       0.92      0.91      0.91       360\n",
            "weighted avg       0.92      0.91      0.91       360\n",
            "\n",
            "Confusion Matrix:\n",
            "[[51  0  5  1  0  3]\n",
            " [ 1 52  4  3  0  0]\n",
            " [ 0  0 60  0  0  0]\n",
            " [ 2  0  1 57  0  0]\n",
            " [ 3  0  2  1 54  0]\n",
            " [ 0  4  1  0  0 55]]\n"
          ]
        },
        {
          "output_type": "display_data",
          "data": {
            "text/plain": [
              "<Figure size 640x480 with 1 Axes>"
            ],
            "image/png": "[encoded data removed]"
          },
          "metadata": {}
        }
      ]
    },
    {
      "cell_type": "code",
      "source": [
        "# Plot learning curves\n",
        "plt.plot(train_acc_history)\n",
        "plt.plot(valid_acc_history)\n",
        "plt.title('Model Accuracy')\n",
        "plt.xlabel('Epoch')\n",
        "plt.ylabel('Accuracy')\n",
        "plt.legend(['train', 'val'], loc='upper left')\n",
        "plt.show()"
      ],
      "metadata": {
        "id": "TZxRkQ9c0LsT",
        "colab": {
          "base_uri": "https://localhost:8080/",
          "height": 472
        },
        "outputId": "6e89adeb-ab6f-492a-fe6c-945fffd201e4"
      },
      "execution_count": null,
      "outputs": [
        {
          "output_type": "display_data",
          "data": {
            "text/plain": [
              "<Figure size 640x480 with 1 Axes>"
            ],
            "image/png": "[encoded data removed]"
          },
          "metadata": {}
        }
      ]
    },
    {
      "cell_type": "code",
      "source": [],
      "metadata": {
        "id": "-gFZ9GtWAiTq"
      },
      "execution_count": null,
      "outputs": []
    }
  ]
}