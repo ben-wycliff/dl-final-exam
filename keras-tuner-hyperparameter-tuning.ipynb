{
 "cells": [
  {
   "cell_type": "code",
   "execution_count": 1,
   "id": "8bc309da",
   "metadata": {},
   "outputs": [
    {
     "name": "stderr",
     "output_type": "stream",
     "text": [
      "2023-06-05 14:51:35.957102: I tensorflow/stream_executor/platform/default/dso_loader.cc:49] Successfully opened dynamic library libcudart.so.10.1\n"
     ]
    }
   ],
   "source": [
    "import tensorflow as tf \n",
    "from tensorflow import keras\n",
    "from tensorflow.keras.preprocessing.image import ImageDataGenerator\n",
    "from tensorflow.keras import layers\n",
    "from keras_tuner.tuners import RandomSearch"
   ]
  },
  {
   "cell_type": "code",
   "execution_count": 2,
   "id": "28196e5d",
   "metadata": {},
   "outputs": [
    {
     "name": "stdout",
     "output_type": "stream",
     "text": [
      "Found 6942 images belonging to 6 classes.\n",
      "Found 360 images belonging to 6 classes.\n",
      "Found 600 images belonging to 6 classes.\n"
     ]
    }
   ],
   "source": [
    "# Set the path to your dataset\n",
    "train_dir = 'data/train'\n",
    "test_dir = 'data/test'\n",
    "val_dir = 'data/val'\n",
    "\n",
    "# Set the input image dimensions\n",
    "input_shape = (256, 256, 1)\n",
    "\n",
    "# Set the number of classes\n",
    "num_classes = 6\n",
    "\n",
    "# Create an ImageDataGenerator for normalization and grayscale conversion\n",
    "data_generator = ImageDataGenerator(rescale=1.0/255.0)\n",
    "\n",
    "# Create data iterators for training, validation, and testing\n",
    "train_iterator = data_generator.flow_from_directory(\n",
    "    train_dir,\n",
    "    target_size=input_shape[:2],\n",
    "    color_mode='grayscale',\n",
    "    class_mode='categorical',\n",
    "    batch_size=32\n",
    ")\n",
    "\n",
    "val_iterator = data_generator.flow_from_directory(\n",
    "    val_dir,\n",
    "    target_size=input_shape[:2],\n",
    "    color_mode='grayscale',\n",
    "    class_mode='categorical',\n",
    "    batch_size=32\n",
    ")\n",
    "\n",
    "test_iterator = data_generator.flow_from_directory(\n",
    "    test_dir,\n",
    "    target_size=input_shape[:2],\n",
    "    color_mode='grayscale',\n",
    "    class_mode='categorical',\n",
    "    batch_size=1,\n",
    "    shuffle=False\n",
    ")\n"
   ]
  },
  {
   "cell_type": "code",
   "execution_count": 3,
   "id": "99e3b67b",
   "metadata": {},
   "outputs": [],
   "source": [
    "# Define the model architecture\n",
    "def build_model(hp):\n",
    "    model = keras.Sequential()\n",
    "    model.add(layers.Conv2D(hp.Int('conv1_units', min_value=16, max_value=64, step=16),\n",
    "                            (3, 3),\n",
    "                            activation='relu',\n",
    "                            input_shape=input_shape))\n",
    "    model.add(layers.MaxPooling2D((2, 2)))\n",
    "    model.add(layers.Conv2D(hp.Int('conv2_units', min_value=32, max_value=128, step=32),\n",
    "                            (3, 3),\n",
    "                            activation='relu'))\n",
    "    model.add(layers.MaxPooling2D((2, 2)))\n",
    "    model.add(layers.Conv2D(hp.Int('conv3_units', min_value=64, max_value=256, step=64),\n",
    "                            (3, 3),\n",
    "                            activation='relu'))\n",
    "    model.add(layers.MaxPooling2D((2, 2)))\n",
    "    model.add(layers.Flatten())\n",
    "    model.add(layers.Dense(hp.Int('dense_units', min_value=64, max_value=256, step=64),\n",
    "                           activation='relu'))\n",
    "    model.add(layers.Dense(num_classes, activation='softmax'))\n",
    "\n",
    "    # Compile the model\n",
    "    model.compile(optimizer='adam',\n",
    "                  loss='categorical_crossentropy',\n",
    "                  metrics=['accuracy'])\n",
    "\n",
    "    return model"
   ]
  },
  {
   "cell_type": "code",
   "execution_count": 4,
   "id": "4fb15bfc",
   "metadata": {},
   "outputs": [
    {
     "name": "stdout",
     "output_type": "stream",
     "text": [
      "Trial 10 Complete [00h 06m 41s]\n",
      "val_accuracy: 0.9444444179534912\n",
      "\n",
      "Best val_accuracy So Far: 0.949999988079071\n",
      "Total elapsed time: 01h 00m 06s\n",
      "INFO:tensorflow:Oracle triggered exit\n"
     ]
    }
   ],
   "source": [
    "# Instantiate the Keras Tuner RandomSearch tuner\n",
    "tuner = RandomSearch(\n",
    "    build_model,\n",
    "    objective='val_accuracy',\n",
    "    max_trials=10,\n",
    "    directory='tf_tuner_directory',\n",
    "    project_name='tf_tuner') \n",
    "\n",
    "# Perform the hyperparameter search\n",
    "# tuner.search(x_train, y_train, epochs=10, validation_data=(x_val, y_val))\n",
    "tuner.search(train_iterator, epochs=10, validation_data=val_iterator)\n",
    "\n",
    "# Get the best model and hyperparameters\n",
    "best_model = tuner.get_best_models(num_models=1)[0]\n",
    "best_hyperparameters = tuner.get_best_hyperparameters(num_trials=1)[0]"
   ]
  },
  {
   "cell_type": "code",
   "execution_count": 3,
   "id": "eb947fa9",
   "metadata": {},
   "outputs": [
    {
     "name": "stdout",
     "output_type": "stream",
     "text": [
      "Trial 50 Complete [00h 06m 47s]\n",
      "val_loss: 0.18060743808746338\n",
      "\n",
      "Best val_loss So Far: 0.17245377600193024\n",
      "Total elapsed time: 03h 52m 17s\n",
      "INFO:tensorflow:Oracle triggered exit\n"
     ]
    }
   ],
   "source": [
    "# Define the model architecture\n",
    "def build_model2(hp):\n",
    "    model = keras.Sequential()\n",
    "    model.add(layers.Conv2D(hp.Int('conv1_units', min_value=16, max_value=64, step=16),\n",
    "                            (3, 3),\n",
    "                            activation='relu',\n",
    "                            input_shape=input_shape))\n",
    "    model.add(layers.MaxPooling2D((2, 2)))\n",
    "    model.add(layers.Conv2D(hp.Int('conv2_units', min_value=32, max_value=128, step=32),\n",
    "                            (3, 3),\n",
    "                            activation='relu'))\n",
    "    model.add(layers.MaxPooling2D((2, 2)))\n",
    "    model.add(layers.Conv2D(hp.Int('conv3_units', min_value=64, max_value=256, step=64),\n",
    "                            (3, 3),\n",
    "                            activation='relu'))\n",
    "    model.add(layers.MaxPooling2D((2, 2)))\n",
    "    model.add(layers.Flatten())\n",
    "    model.add(layers.Dense(hp.Int('dense_units', min_value=64, max_value=256, step=64),\n",
    "                           activation='relu'))\n",
    "    model.add(layers.Dropout(hp.Float('dropout_rate', min_value=0.2, max_value=0.7, step=0.1)))\n",
    "    model.add(layers.Dense(num_classes, activation='softmax'))\n",
    "\n",
    "    # Compile the model\n",
    "    model.compile(optimizer=keras.optimizers.Adam(learning_rate=hp.Choice('learning_rate',\n",
    "                                                                         values=[1e-3, 1e-4, 1e-5])),\n",
    "                  loss='categorical_crossentropy',\n",
    "                  metrics=['accuracy'])\n",
    "\n",
    "    return model\n",
    "\n",
    "# Instantiate the Keras Tuner RandomSearch tuner\n",
    "tuner3 = RandomSearch(\n",
    "    build_model2,\n",
    "    objective='val_loss',\n",
    "    max_trials=50,\n",
    "    directory='tf_tuner_directory',\n",
    "    project_name='tf_tuner3') \n",
    "\n",
    "# Perform the hyperparameter search\n",
    "# tuner.search(x_train, y_train, epochs=10, validation_data=(x_val, y_val))\n",
    "tuner3.search(train_iterator, epochs=10, validation_data=val_iterator)\n",
    "\n",
    "# Get the best model and hyperparameters\n",
    "best_model = tuner3.get_best_models(num_models=1)[0]\n",
    "best_hyperparameters = tuner3.get_best_hyperparameters(num_trials=1)[0]"
   ]
  },
  {
   "cell_type": "code",
   "execution_count": null,
   "id": "e2375b22",
   "metadata": {},
   "outputs": [],
   "source": [
    "best_model"
   ]
  },
  {
   "cell_type": "code",
   "execution_count": null,
   "id": "04a8b339",
   "metadata": {},
   "outputs": [],
   "source": [
    "best_hyperparameters"
   ]
  },
  {
   "cell_type": "code",
   "execution_count": null,
   "id": "0d8a1058",
   "metadata": {},
   "outputs": [],
   "source": [
    "best"
   ]
  }
 ],
 "metadata": {
  "kernelspec": {
   "display_name": "Python 3 (ipykernel)",
   "language": "python",
   "name": "python3"
  },
  "language_info": {
   "codemirror_mode": {
    "name": "ipython",
    "version": 3
   },
   "file_extension": ".py",
   "mimetype": "text/x-python",
   "name": "python",
   "nbconvert_exporter": "python",
   "pygments_lexer": "ipython3",
   "version": "3.9.16"
  }
 },
 "nbformat": 4,
 "nbformat_minor": 5
}
